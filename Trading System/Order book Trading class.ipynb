{
 "cells": [
  {
   "cell_type": "code",
   "execution_count": 1,
   "id": "0eb4a464",
   "metadata": {},
   "outputs": [],
   "source": [
    "import pandas as pd"
   ]
  },
  {
   "cell_type": "markdown",
   "id": "565a95f5",
   "metadata": {},
   "source": [
    "## For single stock"
   ]
  },
  {
   "cell_type": "code",
   "execution_count": 196,
   "id": "5ccb63bf",
   "metadata": {},
   "outputs": [],
   "source": [
    "class BrokerBidAsk:\n",
    "    \n",
    "    def __init__(self,stocktick):\n",
    "        self.stocktick = stocktick\n",
    "        self.bidask_df = pd.DataFrame(columns=[\"BrokerName\",\"BidP\",\"BidQ\",\"AskP\",\"AskQ\"])\n",
    "    \n",
    "    def update_broker_bidask(self,brokername,bidp,bidq,askp,askq):\n",
    "        if brokername in self.bidask_df[\"BrokerName\"].values:\n",
    "            self.bidask_df.drop(self.bidask_df[self.bidask_df[\"BrokerName\"] == brokername].index, inplace=True)\n",
    "        add_df = pd.DataFrame({'BrokerName': [brokername], \"BidP\":[bidp], \"BidQ\":[bidq], \"AskP\":[askp], \"AskQ\":[askq]})\n",
    "        self.bidask_df = pd.concat([self.bidask_df,add_df],ignore_index=True)\n",
    "    \n",
    "    def show(self):\n",
    "        print(self.bidask_df)\n",
    "        \n",
    "    def calculate_mean_bid(self,tobidq):\n",
    "        bid_df = self.bidask_df[[\"BrokerName\",\"BidP\",\"BidQ\"]]\n",
    "        bid_df = bid_df.sort_values(by = \"BidP\", ascending=False)\n",
    "        \n",
    "        total = 0\n",
    "        remaintobidq = tobidq\n",
    "        for i in range(len(bid_df)):\n",
    "            availablep = bid_df.iloc[i][\"BidP\"]\n",
    "            availableq = bid_df.iloc[i][\"BidQ\"]\n",
    "            if availableq <= remaintobidq:\n",
    "                remaintobidq -= availableq\n",
    "                total += availableq * availablep\n",
    "            else:\n",
    "                total += remaintobidq * availablep\n",
    "                break                \n",
    "        print(f'Mean sell price is {total/tobidq}')\n",
    "        return total/tobidq\n",
    "    \n",
    "    def calculate_mean_ask(self,toaskq):\n",
    "        ask_df = self.bidask_df[[\"BrokerName\",\"AskP\",\"AskQ\"]]\n",
    "        ask_df = ask_df.sort_values(by = \"AskP\", ascending=True)\n",
    "        \n",
    "        total = 0\n",
    "        remaintoaskq = toaskq\n",
    "        for i in range(len(ask_df)):\n",
    "            availablep = ask_df.iloc[i][\"AskP\"]\n",
    "            availableq = ask_df.iloc[i][\"AskQ\"]\n",
    "            if availableq <= remaintoaskq:\n",
    "                remaintoaskq -= availableq\n",
    "                total += availableq * availablep\n",
    "            else:\n",
    "                total += remaintoaskq * availablep\n",
    "                break                \n",
    "        print(f'Mean buy price is {total/toaskq}')\n",
    "        return total/toaskq"
   ]
  },
  {
   "cell_type": "code",
   "execution_count": 197,
   "id": "cd124e2e",
   "metadata": {},
   "outputs": [],
   "source": [
    "xyz = BrokerBidAsk(\"XYZ\")"
   ]
  },
  {
   "cell_type": "code",
   "execution_count": 198,
   "id": "9744b31b",
   "metadata": {},
   "outputs": [
    {
     "name": "stdout",
     "output_type": "stream",
     "text": [
      "Empty DataFrame\n",
      "Columns: [BrokerName, BidP, BidQ, AskP, AskQ]\n",
      "Index: []\n"
     ]
    }
   ],
   "source": [
    "xyz.show()"
   ]
  },
  {
   "cell_type": "code",
   "execution_count": 199,
   "id": "1675865c",
   "metadata": {},
   "outputs": [],
   "source": [
    "xyz.update_broker_bidask(\"BrokerA\",98.85,600,100.49,200)"
   ]
  },
  {
   "cell_type": "code",
   "execution_count": 200,
   "id": "7b8a7a1f",
   "metadata": {},
   "outputs": [],
   "source": [
    "xyz.update_broker_bidask(\"BrokerB\",98.84,500,100.51,1000)"
   ]
  },
  {
   "cell_type": "code",
   "execution_count": 201,
   "id": "50c72caa",
   "metadata": {},
   "outputs": [],
   "source": [
    "xyz.update_broker_bidask(\"BrokerC\",98.82,700,100.55,500)"
   ]
  },
  {
   "cell_type": "code",
   "execution_count": 202,
   "id": "0b528662",
   "metadata": {},
   "outputs": [
    {
     "name": "stdout",
     "output_type": "stream",
     "text": [
      "  BrokerName   BidP BidQ    AskP  AskQ\n",
      "0    BrokerA  98.85  600  100.49   200\n",
      "1    BrokerB  98.84  500  100.51  1000\n",
      "2    BrokerC  98.82  700  100.55   500\n"
     ]
    }
   ],
   "source": [
    "xyz.show()"
   ]
  },
  {
   "cell_type": "code",
   "execution_count": 203,
   "id": "5b4c1606",
   "metadata": {},
   "outputs": [],
   "source": [
    "xyz.update_broker_bidask(\"BrokerA\",98.87,500,100.49,200)"
   ]
  },
  {
   "cell_type": "code",
   "execution_count": 204,
   "id": "4d8855e2",
   "metadata": {},
   "outputs": [
    {
     "name": "stdout",
     "output_type": "stream",
     "text": [
      "  BrokerName   BidP BidQ    AskP  AskQ\n",
      "0    BrokerB  98.84  500  100.51  1000\n",
      "1    BrokerC  98.82  700  100.55   500\n",
      "2    BrokerA  98.87  500  100.49   200\n"
     ]
    }
   ],
   "source": [
    "xyz.show()"
   ]
  },
  {
   "cell_type": "code",
   "execution_count": 205,
   "id": "aba2cd21",
   "metadata": {},
   "outputs": [
    {
     "name": "stdout",
     "output_type": "stream",
     "text": [
      "Mean sell price is 98.865\n"
     ]
    },
    {
     "data": {
      "text/plain": [
       "98.865"
      ]
     },
     "execution_count": 205,
     "metadata": {},
     "output_type": "execute_result"
    }
   ],
   "source": [
    "xyz.calculate_mean_bid(600)"
   ]
  },
  {
   "cell_type": "code",
   "execution_count": 206,
   "id": "e4e0d5cd",
   "metadata": {},
   "outputs": [
    {
     "name": "stdout",
     "output_type": "stream",
     "text": [
      "Mean buy price is 100.50333333333333\n"
     ]
    },
    {
     "data": {
      "text/plain": [
       "100.50333333333333"
      ]
     },
     "execution_count": 206,
     "metadata": {},
     "output_type": "execute_result"
    }
   ],
   "source": [
    "xyz.calculate_mean_ask(600)"
   ]
  }
 ],
 "metadata": {
  "kernelspec": {
   "display_name": "Python 3 (ipykernel)",
   "language": "python",
   "name": "python3"
  },
  "language_info": {
   "codemirror_mode": {
    "name": "ipython",
    "version": 3
   },
   "file_extension": ".py",
   "mimetype": "text/x-python",
   "name": "python",
   "nbconvert_exporter": "python",
   "pygments_lexer": "ipython3",
   "version": "3.9.7"
  },
  "toc": {
   "base_numbering": 1,
   "nav_menu": {},
   "number_sections": false,
   "sideBar": true,
   "skip_h1_title": true,
   "title_cell": "Table of Contents",
   "title_sidebar": "Contents",
   "toc_cell": false,
   "toc_position": {},
   "toc_section_display": true,
   "toc_window_display": false
  }
 },
 "nbformat": 4,
 "nbformat_minor": 5
}
